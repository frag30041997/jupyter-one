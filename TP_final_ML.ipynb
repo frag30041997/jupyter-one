{
  "nbformat": 4,
  "nbformat_minor": 0,
  "metadata": {
    "colab": {
      "name": "TP_final_ML.ipynb",
      "provenance": [],
      "collapsed_sections": [],
      "toc_visible": true,
      "mount_file_id": "1_tB9OJpHBtRaxB8lElMENiUEEUS-G9BO",
      "authorship_tag": "ABX9TyMoUpyHGUCvekovQ/jCItgn",
      "include_colab_link": true
    },
    "kernelspec": {
      "name": "python3",
      "display_name": "Python 3"
    }
  },
  "cells": [
    {
      "cell_type": "markdown",
      "metadata": {
        "id": "view-in-github",
        "colab_type": "text"
      },
      "source": [
        "<a href=\"https://colab.research.google.com/github/frag30041997/jupyter-one/blob/Cours-Data-Analyst/TP_final_ML.ipynb\" target=\"_parent\"><img src=\"https://colab.research.google.com/assets/colab-badge.svg\" alt=\"Open In Colab\"/></a>"
      ]
    },
    {
      "cell_type": "code",
      "metadata": {
        "id": "THVEQTEcMWRQ",
        "outputId": "14da5152-8781-43ce-8700-89bfa1b2ac92",
        "colab": {
          "base_uri": "https://localhost:8080/",
          "height": 34
        }
      },
      "source": [
        "import seaborn as sns; sns.set\n",
        "from sklearn.ensemble import RandomForestClassifier as RF\n",
        "from sklearn.model_selection import train_test_split\n",
        "from sklearn.pipeline import Pipeline\n",
        "from sklearn.model_selection import GridSearchCV\n",
        "from sklearn.decomposition import PCA\n",
        "import pandas as pd\n",
        "from sklearn.metrics import confusion_matrix\n",
        "import matplotlib.pyplot as plt\n",
        "from sklearn.preprocessing import LabelEncoder as LE\n",
        "import numpy as np\n",
        "\n",
        "\n",
        "def accuracy(preds,target):\n",
        "  return (preds==target).sum()/len(target)\n",
        "\n",
        "\n",
        "def show_cm(confusion_matrix, labels):\n",
        "    df_cm = pd.DataFrame(confusion_matrix, labels, labels)\n",
        "    sns.heatmap(df_cm, annot=True)\n",
        "    plt.show()\n",
        "\n",
        "#fonction qui reécrit une colonne pour la refaire en int \n",
        "def sci_to_int(feature):\n",
        "  iplist = []\n",
        "  for i in range(len(feature)):\n",
        "    iplist.append(int(feature[i]))\n",
        "  return iplist\n",
        "\n",
        "#on part d'un fichier réduit pour raisons pratiques (importation drive impossible sinon)\n",
        "df_rainb = pd.read_csv('/content/drive/My Drive/Colab Notebooks/datasets/S5_operators.csv',sep=';', encoding=\"ISO-8859-1\",engine='python')\n",
        "df_rainb.shape"
      ],
      "execution_count": 60,
      "outputs": [
        {
          "output_type": "execute_result",
          "data": {
            "text/plain": [
              "(509692, 12)"
            ]
          },
          "metadata": {
            "tags": []
          },
          "execution_count": 60
        }
      ]
    },
    {
      "cell_type": "markdown",
      "metadata": {
        "id": "2QdE10iNhcFY"
      },
      "source": [
        "#Preprocessing\n",
        "\n",
        "Le dataset est trop volumineux mais on ne peut pas retirer des données au hasard car on veux des donnés sur plusieurs dates, il va falloir commencer par un gros travail de preprocessing qui définira grandement le rendu par effet papillon.\n",
        "- version minimale trouvée avec 510 000 lignes"
      ]
    },
    {
      "cell_type": "markdown",
      "metadata": {
        "id": "q7o7jDIYeZWd"
      },
      "source": [
        "#Phase 2 (transfo data)"
      ]
    },
    {
      "cell_type": "code",
      "metadata": {
        "id": "whRveo7XTqKR",
        "outputId": "5ceac44b-f60e-454b-d39d-54b6bf2b6e72",
        "colab": {
          "base_uri": "https://localhost:8080/",
          "height": 195
        }
      },
      "source": [
        "df_rainb.head(5)"
      ],
      "execution_count": 62,
      "outputs": [
        {
          "output_type": "execute_result",
          "data": {
            "text/html": [
              "<div>\n",
              "<style scoped>\n",
              "    .dataframe tbody tr th:only-of-type {\n",
              "        vertical-align: middle;\n",
              "    }\n",
              "\n",
              "    .dataframe tbody tr th {\n",
              "        vertical-align: top;\n",
              "    }\n",
              "\n",
              "    .dataframe thead th {\n",
              "        text-align: right;\n",
              "    }\n",
              "</style>\n",
              "<table border=\"1\" class=\"dataframe\">\n",
              "  <thead>\n",
              "    <tr style=\"text-align: right;\">\n",
              "      <th></th>\n",
              "      <th>platform</th>\n",
              "      <th>dateid</th>\n",
              "      <th>skillrank</th>\n",
              "      <th>role</th>\n",
              "      <th>operator</th>\n",
              "      <th>primaryweapon</th>\n",
              "      <th>secondaryweapon</th>\n",
              "      <th>secondarygadget</th>\n",
              "      <th>nbwins</th>\n",
              "      <th>nbkills</th>\n",
              "      <th>nbdeaths</th>\n",
              "      <th>nbpicks</th>\n",
              "    </tr>\n",
              "  </thead>\n",
              "  <tbody>\n",
              "    <tr>\n",
              "      <th>0</th>\n",
              "      <td>PC</td>\n",
              "      <td>20170210</td>\n",
              "      <td>Bronze</td>\n",
              "      <td>Attacker</td>\n",
              "      <td>BOPE-CAPITAO</td>\n",
              "      <td>M249</td>\n",
              "      <td>PRB92</td>\n",
              "      <td>CLAYMORE</td>\n",
              "      <td>6</td>\n",
              "      <td>6</td>\n",
              "      <td>6</td>\n",
              "      <td>8</td>\n",
              "    </tr>\n",
              "    <tr>\n",
              "      <th>1</th>\n",
              "      <td>PC</td>\n",
              "      <td>20170210</td>\n",
              "      <td>Bronze</td>\n",
              "      <td>Attacker</td>\n",
              "      <td>BOPE-CAPITAO</td>\n",
              "      <td>M249</td>\n",
              "      <td>PRB92</td>\n",
              "      <td>STUN GRENADE</td>\n",
              "      <td>4</td>\n",
              "      <td>2</td>\n",
              "      <td>6</td>\n",
              "      <td>8</td>\n",
              "    </tr>\n",
              "    <tr>\n",
              "      <th>2</th>\n",
              "      <td>PC</td>\n",
              "      <td>20170210</td>\n",
              "      <td>Bronze</td>\n",
              "      <td>Attacker</td>\n",
              "      <td>BOPE-CAPITAO</td>\n",
              "      <td>PARA-308</td>\n",
              "      <td>PRB92</td>\n",
              "      <td>CLAYMORE</td>\n",
              "      <td>37</td>\n",
              "      <td>40</td>\n",
              "      <td>49</td>\n",
              "      <td>70</td>\n",
              "    </tr>\n",
              "    <tr>\n",
              "      <th>3</th>\n",
              "      <td>PC</td>\n",
              "      <td>20170210</td>\n",
              "      <td>Bronze</td>\n",
              "      <td>Attacker</td>\n",
              "      <td>BOPE-CAPITAO</td>\n",
              "      <td>PARA-308</td>\n",
              "      <td>PRB92</td>\n",
              "      <td>STUN GRENADE</td>\n",
              "      <td>17</td>\n",
              "      <td>24</td>\n",
              "      <td>31</td>\n",
              "      <td>41</td>\n",
              "    </tr>\n",
              "    <tr>\n",
              "      <th>4</th>\n",
              "      <td>PC</td>\n",
              "      <td>20170210</td>\n",
              "      <td>Bronze</td>\n",
              "      <td>Attacker</td>\n",
              "      <td>G.E.O.-JACKAL</td>\n",
              "      <td>C7E</td>\n",
              "      <td>ITA12S</td>\n",
              "      <td>BREACH CHARGE</td>\n",
              "      <td>74</td>\n",
              "      <td>123</td>\n",
              "      <td>127</td>\n",
              "      <td>174</td>\n",
              "    </tr>\n",
              "  </tbody>\n",
              "</table>\n",
              "</div>"
            ],
            "text/plain": [
              "  platform    dateid skillrank      role  ... nbwins nbkills nbdeaths nbpicks\n",
              "0       PC  20170210    Bronze  Attacker  ...      6       6        6       8\n",
              "1       PC  20170210    Bronze  Attacker  ...      4       2        6       8\n",
              "2       PC  20170210    Bronze  Attacker  ...     37      40       49      70\n",
              "3       PC  20170210    Bronze  Attacker  ...     17      24       31      41\n",
              "4       PC  20170210    Bronze  Attacker  ...     74     123      127     174\n",
              "\n",
              "[5 rows x 12 columns]"
            ]
          },
          "metadata": {
            "tags": []
          },
          "execution_count": 62
        }
      ]
    },
    {
      "cell_type": "code",
      "metadata": {
        "id": "x4qUZyGOQfbG"
      },
      "source": [
        "labenc = LE() #initialisation labelencoder\n",
        "\n",
        "#uniformisation des datas (+ dictionnaires)\n",
        "df_rainb['platform'] = labenc.fit_transform(df_rainb['platform'])\n",
        "df_rainb['skillrank'] = sci_to_int(df_rainb['skillrank'])\n",
        "df_rainb['role'] = labenc.fit_transform(df_rainb['role'])\n",
        "df_rainb['operator'] = labenc.fit_transform(df_rainb['operator'])\n",
        "df_rainb['primaryweapon'] = labenc.fit_transform(df_rainb['primaryweapon'])\n",
        "df_rainb['secondaryweapon'] = pd.to_datetime(df_rainb['secondaryweapon'])\n",
        "df_rainb['secondarygadget'] = pd.to_datetime(df_rainb['secondarygadget'])\n",
        "\n",
        "\n",
        "df_rainb.info()"
      ],
      "execution_count": null,
      "outputs": []
    }
  ]
}