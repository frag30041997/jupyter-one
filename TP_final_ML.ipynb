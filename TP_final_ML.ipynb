{
  "nbformat": 4,
  "nbformat_minor": 0,
  "metadata": {
    "colab": {
      "name": "TP_final_ML.ipynb",
      "provenance": [],
      "collapsed_sections": [],
      "toc_visible": true,
      "mount_file_id": "1_tB9OJpHBtRaxB8lElMENiUEEUS-G9BO",
      "authorship_tag": "ABX9TyPZofadKnAe7iKtZdqpKX5F",
      "include_colab_link": true
    },
    "kernelspec": {
      "name": "python3",
      "display_name": "Python 3"
    }
  },
  "cells": [
    {
      "cell_type": "markdown",
      "metadata": {
        "id": "view-in-github",
        "colab_type": "text"
      },
      "source": [
        "<a href=\"https://colab.research.google.com/github/frag30041997/jupyter-one/blob/Cours-Data-Analyst/TP_final_ML.ipynb\" target=\"_parent\"><img src=\"https://colab.research.google.com/assets/colab-badge.svg\" alt=\"Open In Colab\"/></a>"
      ]
    },
    {
      "cell_type": "code",
      "metadata": {
        "id": "THVEQTEcMWRQ",
        "outputId": "edb44e8b-3af7-4efc-e29f-169a3bcfe728",
        "colab": {
          "base_uri": "https://localhost:8080/",
          "height": 34
        }
      },
      "source": [
        "import seaborn as sns; sns.set\n",
        "from sklearn.ensemble import RandomForestClassifier as RF\n",
        "from sklearn.model_selection import train_test_split\n",
        "from sklearn.pipeline import Pipeline\n",
        "from sklearn.model_selection import GridSearchCV\n",
        "from sklearn.decomposition import PCA\n",
        "import pandas as pd\n",
        "from sklearn.metrics import confusion_matrix\n",
        "import matplotlib.pyplot as plt\n",
        "from sklearn.preprocessing import LabelEncoder as LE\n",
        "import numpy as np\n",
        "\n",
        "\n",
        "def accuracy(preds,target):\n",
        "  return (preds==target).sum()/len(target)\n",
        "\n",
        "\n",
        "def show_cm(confusion_matrix, labels):\n",
        "    df_cm = pd.DataFrame(confusion_matrix, labels, labels)\n",
        "    sns.heatmap(df_cm, annot=True)\n",
        "    plt.show()\n",
        "\n",
        "#fonction qui reécrit une colonne pour la refaire en int \n",
        "def sci_to_int(feature):\n",
        "  iplist = []\n",
        "  for i in range(len(feature)):\n",
        "    iplist.append(int(feature[i]))\n",
        "  return iplist\n",
        "\n",
        "#on part d'un fichier réduit pour raisons pratiques (importation drive impossible sinon)\n",
        "df_rainb = pd.read_csv('/content/drive/My Drive/Colab Notebooks/datasets/S5_operators.csv',sep=';', encoding=\"ISO-8859-1\",engine='python')\n",
        "df_rainb.shape"
      ],
      "execution_count": 97,
      "outputs": [
        {
          "output_type": "execute_result",
          "data": {
            "text/plain": [
              "(509692, 12)"
            ]
          },
          "metadata": {
            "tags": []
          },
          "execution_count": 97
        }
      ]
    },
    {
      "cell_type": "markdown",
      "metadata": {
        "id": "2QdE10iNhcFY"
      },
      "source": [
        "#Preprocessing\n",
        "\n",
        "Le dataset est trop volumineux mais on ne peut pas retirer des données au hasard car on veux des donnés sur plusieurs dates, il va falloir commencer par un gros travail de preprocessing qui définira grandement le rendu par effet papillon.\n",
        "- version minimale trouvée avec 510 000 lignes"
      ]
    },
    {
      "cell_type": "markdown",
      "metadata": {
        "id": "q7o7jDIYeZWd"
      },
      "source": [
        "#Phase 2 (transfo data)"
      ]
    },
    {
      "cell_type": "code",
      "metadata": {
        "id": "whRveo7XTqKR",
        "outputId": "01840daf-a036-4763-a51a-0005a4a26294",
        "colab": {
          "base_uri": "https://localhost:8080/",
          "height": 195
        }
      },
      "source": [
        "df_rainb.head(5)"
      ],
      "execution_count": 94,
      "outputs": [
        {
          "output_type": "execute_result",
          "data": {
            "text/html": [
              "<div>\n",
              "<style scoped>\n",
              "    .dataframe tbody tr th:only-of-type {\n",
              "        vertical-align: middle;\n",
              "    }\n",
              "\n",
              "    .dataframe tbody tr th {\n",
              "        vertical-align: top;\n",
              "    }\n",
              "\n",
              "    .dataframe thead th {\n",
              "        text-align: right;\n",
              "    }\n",
              "</style>\n",
              "<table border=\"1\" class=\"dataframe\">\n",
              "  <thead>\n",
              "    <tr style=\"text-align: right;\">\n",
              "      <th></th>\n",
              "      <th>platform</th>\n",
              "      <th>dateid</th>\n",
              "      <th>skillrank</th>\n",
              "      <th>role</th>\n",
              "      <th>operator</th>\n",
              "      <th>primaryweapon</th>\n",
              "      <th>secondaryweapon</th>\n",
              "      <th>secondarygadget</th>\n",
              "      <th>nbwins</th>\n",
              "      <th>nbkills</th>\n",
              "      <th>nbdeaths</th>\n",
              "      <th>nbpicks</th>\n",
              "    </tr>\n",
              "  </thead>\n",
              "  <tbody>\n",
              "    <tr>\n",
              "      <th>0</th>\n",
              "      <td>PC</td>\n",
              "      <td>20170210</td>\n",
              "      <td>Bronze</td>\n",
              "      <td>Attacker</td>\n",
              "      <td>BOPE-CAPITAO</td>\n",
              "      <td>M249</td>\n",
              "      <td>PRB92</td>\n",
              "      <td>CLAYMORE</td>\n",
              "      <td>6</td>\n",
              "      <td>6</td>\n",
              "      <td>6</td>\n",
              "      <td>8</td>\n",
              "    </tr>\n",
              "    <tr>\n",
              "      <th>1</th>\n",
              "      <td>PC</td>\n",
              "      <td>20170210</td>\n",
              "      <td>Bronze</td>\n",
              "      <td>Attacker</td>\n",
              "      <td>BOPE-CAPITAO</td>\n",
              "      <td>M249</td>\n",
              "      <td>PRB92</td>\n",
              "      <td>STUN GRENADE</td>\n",
              "      <td>4</td>\n",
              "      <td>2</td>\n",
              "      <td>6</td>\n",
              "      <td>8</td>\n",
              "    </tr>\n",
              "    <tr>\n",
              "      <th>2</th>\n",
              "      <td>PC</td>\n",
              "      <td>20170210</td>\n",
              "      <td>Bronze</td>\n",
              "      <td>Attacker</td>\n",
              "      <td>BOPE-CAPITAO</td>\n",
              "      <td>PARA-308</td>\n",
              "      <td>PRB92</td>\n",
              "      <td>CLAYMORE</td>\n",
              "      <td>37</td>\n",
              "      <td>40</td>\n",
              "      <td>49</td>\n",
              "      <td>70</td>\n",
              "    </tr>\n",
              "    <tr>\n",
              "      <th>3</th>\n",
              "      <td>PC</td>\n",
              "      <td>20170210</td>\n",
              "      <td>Bronze</td>\n",
              "      <td>Attacker</td>\n",
              "      <td>BOPE-CAPITAO</td>\n",
              "      <td>PARA-308</td>\n",
              "      <td>PRB92</td>\n",
              "      <td>STUN GRENADE</td>\n",
              "      <td>17</td>\n",
              "      <td>24</td>\n",
              "      <td>31</td>\n",
              "      <td>41</td>\n",
              "    </tr>\n",
              "    <tr>\n",
              "      <th>4</th>\n",
              "      <td>PC</td>\n",
              "      <td>20170210</td>\n",
              "      <td>Bronze</td>\n",
              "      <td>Attacker</td>\n",
              "      <td>G.E.O.-JACKAL</td>\n",
              "      <td>C7E</td>\n",
              "      <td>ITA12S</td>\n",
              "      <td>BREACH CHARGE</td>\n",
              "      <td>74</td>\n",
              "      <td>123</td>\n",
              "      <td>127</td>\n",
              "      <td>174</td>\n",
              "    </tr>\n",
              "  </tbody>\n",
              "</table>\n",
              "</div>"
            ],
            "text/plain": [
              "  platform    dateid skillrank      role  ... nbwins nbkills nbdeaths nbpicks\n",
              "0       PC  20170210    Bronze  Attacker  ...      6       6        6       8\n",
              "1       PC  20170210    Bronze  Attacker  ...      4       2        6       8\n",
              "2       PC  20170210    Bronze  Attacker  ...     37      40       49      70\n",
              "3       PC  20170210    Bronze  Attacker  ...     17      24       31      41\n",
              "4       PC  20170210    Bronze  Attacker  ...     74     123      127     174\n",
              "\n",
              "[5 rows x 12 columns]"
            ]
          },
          "metadata": {
            "tags": []
          },
          "execution_count": 94
        }
      ]
    },
    {
      "cell_type": "code",
      "metadata": {
        "id": "lKvyeeQqije4",
        "outputId": "a1aa411c-9174-494a-f53e-cbb6b457bb69",
        "colab": {
          "base_uri": "https://localhost:8080/",
          "height": 336
        }
      },
      "source": [
        "df_rainb.info()"
      ],
      "execution_count": 92,
      "outputs": [
        {
          "output_type": "stream",
          "text": [
            "<class 'pandas.core.frame.DataFrame'>\n",
            "RangeIndex: 509692 entries, 0 to 509691\n",
            "Data columns (total 12 columns):\n",
            " #   Column           Non-Null Count   Dtype \n",
            "---  ------           --------------   ----- \n",
            " 0   platform         509692 non-null  object\n",
            " 1   dateid           509692 non-null  int64 \n",
            " 2   skillrank        509692 non-null  object\n",
            " 3   role             509692 non-null  object\n",
            " 4   operator         509692 non-null  object\n",
            " 5   primaryweapon    509692 non-null  object\n",
            " 6   secondaryweapon  509692 non-null  object\n",
            " 7   secondarygadget  509692 non-null  object\n",
            " 8   nbwins           509692 non-null  int64 \n",
            " 9   nbkills          509692 non-null  int64 \n",
            " 10  nbdeaths         509692 non-null  int64 \n",
            " 11  nbpicks          509692 non-null  int64 \n",
            "dtypes: int64(5), object(7)\n",
            "memory usage: 46.7+ MB\n"
          ],
          "name": "stdout"
        }
      ]
    },
    {
      "cell_type": "code",
      "metadata": {
        "id": "x4qUZyGOQfbG",
        "outputId": "af0ba903-b8e6-40cf-dea0-39be6247c0e5",
        "colab": {
          "base_uri": "https://localhost:8080/",
          "height": 336
        }
      },
      "source": [
        "labenc = LE() #initialisation labelencoder\n",
        "\n",
        "#uniformisation des datas (+ dictionnaires)\n",
        "df_rainb['dateid'] = pd.to_datetime(df_rainb['dateid'],format='%Y%m%d')\n",
        "\n",
        "df_rainb['platform'] = labenc.fit_transform(df_rainb['platform'])\n",
        "df_rainb['skillrank'] = labenc.fit_transform(df_rainb['skillrank'])\n",
        "df_rainb['role'] = labenc.fit_transform(df_rainb['role'])\n",
        "df_rainb['operator'] = labenc.fit_transform(df_rainb['operator'])\n",
        "df_rainb['primaryweapon'] = labenc.fit_transform(df_rainb['primaryweapon'])\n",
        "df_rainb['secondaryweapon'] = labenc.fit_transform(df_rainb['secondaryweapon'])\n",
        "df_rainb['secondarygadget'] = labenc.fit_transform(df_rainb['secondarygadget'])\n",
        "\n",
        "df_rainb.info()"
      ],
      "execution_count": 95,
      "outputs": [
        {
          "output_type": "stream",
          "text": [
            "<class 'pandas.core.frame.DataFrame'>\n",
            "RangeIndex: 509692 entries, 0 to 509691\n",
            "Data columns (total 12 columns):\n",
            " #   Column           Non-Null Count   Dtype         \n",
            "---  ------           --------------   -----         \n",
            " 0   platform         509692 non-null  int64         \n",
            " 1   dateid           509692 non-null  datetime64[ns]\n",
            " 2   skillrank        509692 non-null  int64         \n",
            " 3   role             509692 non-null  int64         \n",
            " 4   operator         509692 non-null  int64         \n",
            " 5   primaryweapon    509692 non-null  int64         \n",
            " 6   secondaryweapon  509692 non-null  int64         \n",
            " 7   secondarygadget  509692 non-null  int64         \n",
            " 8   nbwins           509692 non-null  int64         \n",
            " 9   nbkills          509692 non-null  int64         \n",
            " 10  nbdeaths         509692 non-null  int64         \n",
            " 11  nbpicks          509692 non-null  int64         \n",
            "dtypes: datetime64[ns](1), int64(11)\n",
            "memory usage: 46.7 MB\n"
          ],
          "name": "stdout"
        }
      ]
    },
    {
      "cell_type": "code",
      "metadata": {
        "id": "M7XB0_K-h5B-",
        "outputId": "a3fcfccb-5ac7-420d-e18a-3241837113f8",
        "colab": {
          "base_uri": "https://localhost:8080/",
          "height": 195
        }
      },
      "source": [
        "df_rainb.head(5)"
      ],
      "execution_count": 96,
      "outputs": [
        {
          "output_type": "execute_result",
          "data": {
            "text/html": [
              "<div>\n",
              "<style scoped>\n",
              "    .dataframe tbody tr th:only-of-type {\n",
              "        vertical-align: middle;\n",
              "    }\n",
              "\n",
              "    .dataframe tbody tr th {\n",
              "        vertical-align: top;\n",
              "    }\n",
              "\n",
              "    .dataframe thead th {\n",
              "        text-align: right;\n",
              "    }\n",
              "</style>\n",
              "<table border=\"1\" class=\"dataframe\">\n",
              "  <thead>\n",
              "    <tr style=\"text-align: right;\">\n",
              "      <th></th>\n",
              "      <th>platform</th>\n",
              "      <th>dateid</th>\n",
              "      <th>skillrank</th>\n",
              "      <th>role</th>\n",
              "      <th>operator</th>\n",
              "      <th>primaryweapon</th>\n",
              "      <th>secondaryweapon</th>\n",
              "      <th>secondarygadget</th>\n",
              "      <th>nbwins</th>\n",
              "      <th>nbkills</th>\n",
              "      <th>nbdeaths</th>\n",
              "      <th>nbpicks</th>\n",
              "    </tr>\n",
              "  </thead>\n",
              "  <tbody>\n",
              "    <tr>\n",
              "      <th>0</th>\n",
              "      <td>0</td>\n",
              "      <td>2017-02-10</td>\n",
              "      <td>0</td>\n",
              "      <td>0</td>\n",
              "      <td>0</td>\n",
              "      <td>21</td>\n",
              "      <td>13</td>\n",
              "      <td>2</td>\n",
              "      <td>6</td>\n",
              "      <td>6</td>\n",
              "      <td>6</td>\n",
              "      <td>8</td>\n",
              "    </tr>\n",
              "    <tr>\n",
              "      <th>1</th>\n",
              "      <td>0</td>\n",
              "      <td>2017-02-10</td>\n",
              "      <td>0</td>\n",
              "      <td>0</td>\n",
              "      <td>0</td>\n",
              "      <td>21</td>\n",
              "      <td>13</td>\n",
              "      <td>8</td>\n",
              "      <td>4</td>\n",
              "      <td>2</td>\n",
              "      <td>6</td>\n",
              "      <td>8</td>\n",
              "    </tr>\n",
              "    <tr>\n",
              "      <th>2</th>\n",
              "      <td>0</td>\n",
              "      <td>2017-02-10</td>\n",
              "      <td>0</td>\n",
              "      <td>0</td>\n",
              "      <td>0</td>\n",
              "      <td>32</td>\n",
              "      <td>13</td>\n",
              "      <td>2</td>\n",
              "      <td>37</td>\n",
              "      <td>40</td>\n",
              "      <td>49</td>\n",
              "      <td>70</td>\n",
              "    </tr>\n",
              "    <tr>\n",
              "      <th>3</th>\n",
              "      <td>0</td>\n",
              "      <td>2017-02-10</td>\n",
              "      <td>0</td>\n",
              "      <td>0</td>\n",
              "      <td>0</td>\n",
              "      <td>32</td>\n",
              "      <td>13</td>\n",
              "      <td>8</td>\n",
              "      <td>17</td>\n",
              "      <td>24</td>\n",
              "      <td>31</td>\n",
              "      <td>41</td>\n",
              "    </tr>\n",
              "    <tr>\n",
              "      <th>4</th>\n",
              "      <td>0</td>\n",
              "      <td>2017-02-10</td>\n",
              "      <td>0</td>\n",
              "      <td>0</td>\n",
              "      <td>2</td>\n",
              "      <td>9</td>\n",
              "      <td>4</td>\n",
              "      <td>1</td>\n",
              "      <td>74</td>\n",
              "      <td>123</td>\n",
              "      <td>127</td>\n",
              "      <td>174</td>\n",
              "    </tr>\n",
              "  </tbody>\n",
              "</table>\n",
              "</div>"
            ],
            "text/plain": [
              "   platform     dateid  skillrank  role  ...  nbwins  nbkills  nbdeaths  nbpicks\n",
              "0         0 2017-02-10          0     0  ...       6        6         6        8\n",
              "1         0 2017-02-10          0     0  ...       4        2         6        8\n",
              "2         0 2017-02-10          0     0  ...      37       40        49       70\n",
              "3         0 2017-02-10          0     0  ...      17       24        31       41\n",
              "4         0 2017-02-10          0     0  ...      74      123       127      174\n",
              "\n",
              "[5 rows x 12 columns]"
            ]
          },
          "metadata": {
            "tags": []
          },
          "execution_count": 96
        }
      ]
    },
    {
      "cell_type": "code",
      "metadata": {
        "id": "j8dUcMY-jbLw"
      },
      "source": [
        ""
      ],
      "execution_count": null,
      "outputs": []
    }
  ]
}