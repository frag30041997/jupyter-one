{
  "nbformat": 4,
  "nbformat_minor": 0,
  "metadata": {
    "colab": {
      "name": "Cours DA3.ipynb",
      "provenance": [],
      "authorship_tag": "ABX9TyPBkLq2xjOlXA6cqtaV07kP",
      "include_colab_link": true
    },
    "kernelspec": {
      "name": "python3",
      "display_name": "Python 3"
    }
  },
  "cells": [
    {
      "cell_type": "markdown",
      "metadata": {
        "id": "view-in-github",
        "colab_type": "text"
      },
      "source": [
        "<a href=\"https://colab.research.google.com/github/frag30041997/jupyter-one/blob/master/Cours_DA3.ipynb\" target=\"_parent\"><img src=\"https://colab.research.google.com/assets/colab-badge.svg\" alt=\"Open In Colab\"/></a>"
      ]
    },
    {
      "cell_type": "markdown",
      "metadata": {
        "id": "QtjnPoRDJjJE"
      },
      "source": [
        "# DA regression (prediction valeurs continues?)"
      ]
    },
    {
      "cell_type": "code",
      "metadata": {
        "id": "ejqUXUzjJz0U",
        "outputId": "8264dd1e-aeed-4e45-b80a-bec5d85b6bb3",
        "colab": {
          "base_uri": "https://localhost:8080/",
          "height": 36
        }
      },
      "source": [
        "from sklearn.linear_model import LogisticRegression\n",
        "import seaborn as sns; sns.set\n",
        "from sklearn.model_selection import train_test_split\n",
        "\n",
        "def accuracy(preds, target):\n",
        "  M = target.shape[0] #nb d'ex\n",
        "  total_correct = (preds == target).sum()\n",
        "  accuracy = (total_correct/M)\n",
        "  return accuracy\n",
        "\n",
        "iris = sns.load_dataset('iris')\n",
        "\n",
        "iris.shape\n"
      ],
      "execution_count": 17,
      "outputs": [
        {
          "output_type": "execute_result",
          "data": {
            "text/plain": [
              "(150, 5)"
            ]
          },
          "metadata": {
            "tags": []
          },
          "execution_count": 17
        }
      ]
    },
    {
      "cell_type": "code",
      "metadata": {
        "id": "vNOYOHaZKKPv",
        "outputId": "d133a3f0-200a-4abb-b497-ae634d42370f",
        "colab": {
          "base_uri": "https://localhost:8080/",
          "height": 36
        }
      },
      "source": [
        "y = iris.species.astype('category').cat.codes\n",
        "vocabulaire = iris.species.astype('category').cat.categories\n",
        "x = iris.drop('species',axis='columns')\n",
        "x.shape,y.shape"
      ],
      "execution_count": 12,
      "outputs": [
        {
          "output_type": "execute_result",
          "data": {
            "text/plain": [
              "((150, 4), (150,))"
            ]
          },
          "metadata": {
            "tags": []
          },
          "execution_count": 12
        }
      ]
    },
    {
      "cell_type": "code",
      "metadata": {
        "id": "b-kDhMk7KjnW",
        "outputId": "cd018b13-27ca-4a08-d051-3797c5163292",
        "colab": {
          "base_uri": "https://localhost:8080/",
          "height": 54
        }
      },
      "source": [
        "splits = train_test_split(x,y, train_size=0.5,stratify=y,random_state=2)\n",
        "x_train = splits[0]\n",
        "x_test = splits[1]\n",
        "y_train = splits[2]\n",
        "y_test = splits[3]\n",
        "print(x_train.shape)\n",
        "print(x_test.shape)"
      ],
      "execution_count": 43,
      "outputs": [
        {
          "output_type": "stream",
          "text": [
            "(75, 4)\n",
            "(75, 4)\n"
          ],
          "name": "stdout"
        }
      ]
    },
    {
      "cell_type": "code",
      "metadata": {
        "id": "OHaa7pDdK9XZ"
      },
      "source": [
        ""
      ],
      "execution_count": 16,
      "outputs": []
    },
    {
      "cell_type": "code",
      "metadata": {
        "id": "VspWSycTJhiJ",
        "outputId": "b01eae43-2475-4dcd-ec16-a5f6cc558e3c",
        "colab": {
          "base_uri": "https://localhost:8080/",
          "height": 36
        }
      },
      "source": [
        "model = LogisticRegression()\n",
        "model.fit(x_train, y_train)\n",
        "pred = model.predict(x_test)\n",
        "test = model.predict_proba(x_test)[1, :]\n",
        "print(test)"
      ],
      "execution_count": 44,
      "outputs": [
        {
          "output_type": "stream",
          "text": [
            "[0.00097676 0.22516097 0.77386227]\n"
          ],
          "name": "stdout"
        }
      ]
    },
    {
      "cell_type": "code",
      "metadata": {
        "id": "zEf4PPFhJ7Gi",
        "outputId": "a3e20406-c4ef-4a64-841f-8eff3843dd59",
        "colab": {
          "base_uri": "https://localhost:8080/",
          "height": 36
        }
      },
      "source": [
        "accuracy(pred,y_test)"
      ],
      "execution_count": 45,
      "outputs": [
        {
          "output_type": "execute_result",
          "data": {
            "text/plain": [
              "1.0"
            ]
          },
          "metadata": {
            "tags": []
          },
          "execution_count": 45
        }
      ]
    },
    {
      "cell_type": "code",
      "metadata": {
        "id": "xYP4srQRLafb"
      },
      "source": [
        "import pandas as pd\n",
        "import matplotlib.pyplot as plt\n",
        "import seaborn as sns\n",
        "import numpy as np\n",
        "\n",
        "from sklearn.model_selection import train_test_split as TTS\n",
        "from sklearn.pipeline import Pipeline\n",
        "from sklearn.model_selection import GridSearchCV\n",
        "from sklearn.decomposition import PCA\n",
        "from sklearn.neighbors import KNeighborsClassifier as KNN"
      ],
      "execution_count": 46,
      "outputs": []
    },
    {
      "cell_type": "code",
      "metadata": {
        "id": "5CtZhEzvgVf0"
      },
      "source": [
        "df = sns.load_dataset('iris')"
      ],
      "execution_count": 47,
      "outputs": []
    },
    {
      "cell_type": "code",
      "metadata": {
        "id": "6MVJi0A6gZX3"
      },
      "source": [
        "#Isolation\n",
        "#target_feature_name = 'target_feature'\n",
        "target_feature_name = 'species'\n",
        "Y = df[target_feature_name]\n",
        "X = df.drop(columns=target_feature_name)"
      ],
      "execution_count": 48,
      "outputs": []
    },
    {
      "cell_type": "code",
      "metadata": {
        "id": "ve9PXqcagcz-"
      },
      "source": [
        "#TTS\n",
        "X_tr, X_te, Y_tr, Y_te = TTS(X, Y, stratify=Y, random_state=314)"
      ],
      "execution_count": 49,
      "outputs": []
    },
    {
      "cell_type": "code",
      "metadata": {
        "id": "zY8lcW0age1v"
      },
      "source": [
        "#Pipeline\n",
        "pipeline_details = [('PCA', PCA(random_state=42)),\n",
        "                    ('KNN', KNN())]\n",
        "pipeline = Pipeline(steps=pipeline_details)"
      ],
      "execution_count": 50,
      "outputs": []
    },
    {
      "cell_type": "code",
      "metadata": {
        "id": "ajf6LpQYgg4E",
        "outputId": "de7bdf11-15b5-49e9-aa70-7d29ff11d1f7",
        "colab": {
          "base_uri": "https://localhost:8080/",
          "height": 110
        }
      },
      "source": [
        "#GridSearchCV\n",
        "print([i for i in range(1, X_tr.shape[1] + 1)])\n",
        "print([i for i in range(1, 21 + 1, 2)])\n",
        "\n",
        "hyperparameters = {}\n",
        "hyperparameters['PCA__n_components'] = [i for i in range(1, X_tr.shape[1]+1)]\n",
        "hyperparameters['KNN__n_neighbors']  = [i for i in range(1, 21 +1, 2)]\n",
        "\n",
        "print(hyperparameters)\n",
        "\n",
        "hyperparameter_search = GridSearchCV(pipeline,\n",
        "                                     hyperparameters,\n",
        "                                     scoring='accuracy', \n",
        "                                     cv=5)\n",
        "\n",
        "hyperparameter_search.fit(X_tr, Y_tr)\n",
        "\n",
        "print('Meilleur score : {:.5f}'.format(hyperparameter_search.best_score_))\n",
        "print('Meilleur paramètres : {}'.format(hyperparameter_search.best_params_))"
      ],
      "execution_count": 51,
      "outputs": [
        {
          "output_type": "stream",
          "text": [
            "[1, 2, 3, 4]\n",
            "[1, 3, 5, 7, 9, 11, 13, 15, 17, 19, 21]\n",
            "{'PCA__n_components': [1, 2, 3, 4], 'KNN__n_neighbors': [1, 3, 5, 7, 9, 11, 13, 15, 17, 19, 21]}\n",
            "Meilleur score : 0.99091\n",
            "Meilleur paramètres : {'KNN__n_neighbors': 15, 'PCA__n_components': 4}\n"
          ],
          "name": "stdout"
        }
      ]
    },
    {
      "cell_type": "code",
      "metadata": {
        "id": "z361bMVZgjcZ"
      },
      "source": [
        "#PCA\n",
        "N=hyperparameter_search.best_params_['PCA__n_components']\n",
        "pca = PCA(n_components=N)\n",
        "pca.fit(X_tr)\n",
        "X_tr_PCA = pca.transform(X_tr)\n",
        "X_te_PCA = pca.transform(X_te)"
      ],
      "execution_count": 52,
      "outputs": []
    },
    {
      "cell_type": "code",
      "metadata": {
        "id": "93NoVCieglz4",
        "outputId": "7256e7e0-3e33-404d-af55-74938168e817",
        "colab": {
          "base_uri": "https://localhost:8080/",
          "height": 73
        }
      },
      "source": [
        "#KNN\n",
        "N=hyperparameter_search.best_params_['KNN__n_neighbors']\n",
        "knn = KNN(n_neighbors=N)\n",
        "knn.fit(X_tr_PCA, Y_tr)"
      ],
      "execution_count": 53,
      "outputs": [
        {
          "output_type": "execute_result",
          "data": {
            "text/plain": [
              "KNeighborsClassifier(algorithm='auto', leaf_size=30, metric='minkowski',\n",
              "                     metric_params=None, n_jobs=None, n_neighbors=15, p=2,\n",
              "                     weights='uniform')"
            ]
          },
          "metadata": {
            "tags": []
          },
          "execution_count": 53
        }
      ]
    },
    {
      "cell_type": "code",
      "metadata": {
        "id": "BmN-BUsGgnwn",
        "outputId": "06ee91b3-04f9-4d1b-fdcb-f9a5e41e4be1",
        "colab": {
          "base_uri": "https://localhost:8080/",
          "height": 36
        }
      },
      "source": [
        "#Accuracy\n",
        "preds = knn.predict(X_te)\n",
        "accuracy = lambda p, y : (p==y).sum()/len(y)\n",
        "print('Accuracy : {}'.format(accuracy(preds, Y_te)))"
      ],
      "execution_count": 54,
      "outputs": [
        {
          "output_type": "stream",
          "text": [
            "Accuracy : 0.3157894736842105\n"
          ],
          "name": "stdout"
        }
      ]
    },
    {
      "cell_type": "code",
      "metadata": {
        "id": "yiI5aDl9gqUN"
      },
      "source": [
        "#Chargement\n",
        "#df = pd.read_csv(\"data/filename.csv\")\n",
        "df = pd.DataFrame(X_te_PCA)"
      ],
      "execution_count": 55,
      "outputs": []
    },
    {
      "cell_type": "code",
      "metadata": {
        "id": "W3NNwpqcgtgo"
      },
      "source": [
        "#KNN\n",
        "preds = knn.predict(df)\n",
        "df['Predictions'] = preds"
      ],
      "execution_count": 56,
      "outputs": []
    },
    {
      "cell_type": "code",
      "metadata": {
        "id": "i3_t3r9agvs0"
      },
      "source": [
        "df = df.drop(columns='Predictions')"
      ],
      "execution_count": 57,
      "outputs": []
    },
    {
      "cell_type": "code",
      "metadata": {
        "id": "6ogHIColgykH",
        "outputId": "72316a01-f807-4867-d739-f5138159397c",
        "colab": {
          "base_uri": "https://localhost:8080/",
          "height": 389
        }
      },
      "source": [
        "unknow_iris = df[2:10]\n",
        "print(unknow_iris)\n",
        "proba = knn.predict_proba(unknow_iris)#[0]\n",
        "print(proba)\n",
        "print(\"setosa \\t\\t= {}\\nversicolor \\t= {}\\nvirginica \\t= {}\".format(proba[0], proba[1], proba[2]))"
      ],
      "execution_count": 58,
      "outputs": [
        {
          "output_type": "stream",
          "text": [
            "          0         1         2         3\n",
            "2  1.363608 -0.404683  0.045669  0.198818\n",
            "3 -2.567370  0.552244 -0.066586  0.028245\n",
            "4 -2.886608  0.021055 -0.160340 -0.164462\n",
            "5  1.257516  0.644915 -0.489204 -0.027015\n",
            "6 -3.013032 -0.344942  0.239463  0.080936\n",
            "7  0.514276 -1.126970  0.656221  0.134302\n",
            "8 -2.655977 -0.160104 -0.119918 -0.014939\n",
            "9  0.645019 -0.310415  0.353463  0.201254\n",
            "[[0.         0.26666667 0.73333333]\n",
            " [1.         0.         0.        ]\n",
            " [1.         0.         0.        ]\n",
            " [0.         0.66666667 0.33333333]\n",
            " [1.         0.         0.        ]\n",
            " [0.         0.8        0.2       ]\n",
            " [1.         0.         0.        ]\n",
            " [0.         0.93333333 0.06666667]]\n",
            "setosa \t\t= [0.         0.26666667 0.73333333]\n",
            "versicolor \t= [1. 0. 0.]\n",
            "virginica \t= [1. 0. 0.]\n"
          ],
          "name": "stdout"
        }
      ]
    },
    {
      "cell_type": "code",
      "metadata": {
        "id": "GKoZrS8qg0GR"
      },
      "source": [
        ""
      ],
      "execution_count": null,
      "outputs": []
    }
  ]
}