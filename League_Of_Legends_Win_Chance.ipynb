{
  "nbformat": 4,
  "nbformat_minor": 0,
  "metadata": {
    "colab": {
      "name": "League_Of_Legends_Win_Chance.ipynb",
      "provenance": [],
      "collapsed_sections": [],
      "mount_file_id": "1jM02SGlxZDiAr14tnJA0NkoZ_fw1FXTi",
      "authorship_tag": "ABX9TyNsW5L8gzp3Xsi5KNIAJJhm",
      "include_colab_link": true
    },
    "kernelspec": {
      "name": "python3",
      "display_name": "Python 3"
    }
  },
  "cells": [
    {
      "cell_type": "markdown",
      "metadata": {
        "id": "view-in-github",
        "colab_type": "text"
      },
      "source": [
        "<a href=\"https://colab.research.google.com/github/frag30041997/jupyter-one/blob/master/League_Of_Legends_Win_Chance.ipynb\" target=\"_parent\"><img src=\"https://colab.research.google.com/assets/colab-badge.svg\" alt=\"Open In Colab\"/></a>"
      ]
    },
    {
      "cell_type": "code",
      "metadata": {
        "id": "vzMpazhuKQYy",
        "outputId": "02bfd7e6-33ae-4613-99e9-db28195a51b7",
        "colab": {
          "base_uri": "https://localhost:8080/",
          "height": 35
        }
      },
      "source": [
        "import seaborn as sns; sns.set\n",
        "from sklearn.ensemble import RandomForestClassifier as RF\n",
        "from sklearn.model_selection import train_test_split\n",
        "from sklearn.pipeline import Pipeline\n",
        "from sklearn.model_selection import GridSearchCV\n",
        "from sklearn.decomposition import PCA\n",
        "import pandas as pd\n",
        "\n",
        "\n",
        "\n",
        "def accuracy(preds,target):\n",
        "  return (preds==target).sum()/len(target)\n",
        "\n",
        "df = pd.read_csv('/content/drive/My Drive/Colab Notebooks/high_diamond_ranked_10min.csv',encoding=\"ISO-8859-1\",engine='python')\n",
        "lol = df.iloc[0:300,:]\n",
        "print(df.shape,lol.shape)"
      ],
      "execution_count": 14,
      "outputs": [
        {
          "output_type": "stream",
          "text": [
            "(9879, 40) (300, 40)\n"
          ],
          "name": "stdout"
        }
      ]
    },
    {
      "cell_type": "code",
      "metadata": {
        "id": "mVPocqaMKapb",
        "outputId": "71f7fcc1-5d5f-4792-e4da-7843150d4c5d",
        "colab": {
          "base_uri": "https://localhost:8080/",
          "height": 72
        }
      },
      "source": [
        "#Isolation\n",
        "#target_feature_name = 'target_feature'\n",
        "target= 'blueWins'\n",
        "y = lol[target]\n",
        "x = lol.drop(columns=target)\n",
        "\n",
        "\n",
        "splits = train_test_split(x,y, train_size=0.55,stratify=y,random_state=100) #separe le dataset en deux parties 1 pour entrainement a la prediction et l'autre pour le test operationnel\n",
        "                                              # stratify important car permet de récolter des reponses a comparer auxprediction de manière a tester le plus de cas possibles ( empeche de prendre ici que 1,2 ou 3 en réponse)\n",
        "\n",
        "x_train = splits[0]\n",
        "x_test = splits[1]\n",
        "y_train = splits[2]\n",
        "y_test = splits[3]\n",
        "\n",
        "#Pipeline\n",
        "pipeline_details = [('PCA', PCA(random_state=1337)),\n",
        "                    ('RF', RF())]\n",
        "pipeline = Pipeline(steps=pipeline_details)\n",
        "\n",
        "#GridSearchCV\n",
        "hyperparameters = {}\n",
        "hyperparameters['PCA__n_components'] = [i for i in range(1, x_train.shape[1]+1,3)]\n",
        "hyperparameters['RF__n_estimators']  = [i for i in range(70,150+1,20)]\n",
        "print(hyperparameters)\n",
        "\n",
        "hyperparameter_search = GridSearchCV(pipeline, hyperparameters, scoring='accuracy', cv=5)\n",
        "\n",
        "hyperparameter_search.fit(x_train, y_train)\n",
        "\n",
        "print('Meilleur score : {:.5f}'.format(hyperparameter_search.best_score_))\n",
        "print('Meilleur paramètres : {}'.format(hyperparameter_search.best_params_))"
      ],
      "execution_count": 18,
      "outputs": [
        {
          "output_type": "stream",
          "text": [
            "{'PCA__n_components': [1, 4, 7, 10, 13, 16, 19, 22, 25, 28, 31, 34, 37], 'RF__n_estimators': [70, 90, 110, 130, 150]}\n",
            "Meilleur score : 0.78182\n",
            "Meilleur paramètres : {'PCA__n_components': 22, 'RF__n_estimators': 110}\n"
          ],
          "name": "stdout"
        }
      ]
    },
    {
      "cell_type": "code",
      "metadata": {
        "id": "LOokeeUhMEbE",
        "outputId": "fa3d66d7-ae11-4c6f-ac4e-7deea4ea33d0",
        "colab": {
          "base_uri": "https://localhost:8080/",
          "height": 35
        }
      },
      "source": [
        "#PCA\n",
        "best_param_PCA = hyperparameter_search.best_params_['PCA__n_components']\n",
        "pca = PCA(n_components=best_param_PCA)\n",
        "pca.fit(x_train)\n",
        "x_train_PCA = pca.transform(x_train)\n",
        "x_test_PCA = pca.transform(x_test)\n",
        "\n",
        "#RF\n",
        "N=hyperparameter_search.best_params_['RF__n_estimators']\n",
        "rf = RF(n_estimators=N)\n",
        "rf.fit(x_train_PCA, y_train)\n",
        "\n",
        "#Accuracy\n",
        "preds = rf.predict(x_test_PCA)\n",
        "print('Accuracy : ',accuracy(preds, y_test)*100,'%')"
      ],
      "execution_count": 19,
      "outputs": [
        {
          "output_type": "stream",
          "text": [
            "Accuracy :  80.74074074074075 %\n"
          ],
          "name": "stdout"
        }
      ]
    },
    {
      "cell_type": "code",
      "metadata": {
        "id": "MVGM-TxVRHwl"
      },
      "source": [
        ""
      ],
      "execution_count": null,
      "outputs": []
    }
  ]
}