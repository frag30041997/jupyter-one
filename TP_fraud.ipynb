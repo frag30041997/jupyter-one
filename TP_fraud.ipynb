{
  "nbformat": 4,
  "nbformat_minor": 0,
  "metadata": {
    "colab": {
      "name": "TP_fraud.ipynb",
      "provenance": [],
      "collapsed_sections": [],
      "mount_file_id": "1gMm7bwImE-2HBpa-BT402sEHo8mEiCoC",
      "authorship_tag": "ABX9TyMkiN4l4XhUWL9E630Jwwhw",
      "include_colab_link": true
    },
    "kernelspec": {
      "name": "python3",
      "display_name": "Python 3"
    }
  },
  "cells": [
    {
      "cell_type": "markdown",
      "metadata": {
        "id": "view-in-github",
        "colab_type": "text"
      },
      "source": [
        "<a href=\"https://colab.research.google.com/github/frag30041997/jupyter-one/blob/master/TP_fraud.ipynb\" target=\"_parent\"><img src=\"https://colab.research.google.com/assets/colab-badge.svg\" alt=\"Open In Colab\"/></a>"
      ]
    },
    {
      "cell_type": "code",
      "metadata": {
        "id": "THVEQTEcMWRQ",
        "outputId": "cd26739c-1508-442e-bca2-d1dee6a6e2f9",
        "colab": {
          "base_uri": "https://localhost:8080/",
          "height": 35
        }
      },
      "source": [
        "import seaborn as sns; sns.set\n",
        "from sklearn.ensemble import RandomForestClassifier as RF\n",
        "from sklearn.model_selection import train_test_split\n",
        "from sklearn.pipeline import Pipeline\n",
        "from sklearn.model_selection import GridSearchCV\n",
        "from sklearn.decomposition import PCA\n",
        "import pandas as pd\n",
        "from sklearn.metrics import confusion_matrix\n",
        "import matplotlib.pyplot as plt\n",
        "from sklearn.preprocessing import LabelEncoder as LE\n",
        "import numpy as np\n",
        "\n",
        "\n",
        "def accuracy(preds,target):\n",
        "  return (preds==target).sum()/len(target)\n",
        "\n",
        "\n",
        "def show_cm(cm, labels):\n",
        "    df_cm = pd.DataFrame(cm, labels, labels)\n",
        "    sns.heatmap(df_cm, annot=True)\n",
        "    plt.show()\n",
        "\n",
        "#fonction pour changer tout en int meme le dtype de la colonne\n",
        "def sci_to_int(d):\n",
        "  iplist = []\n",
        "  for i in range(len(d)):\n",
        "    iplist.append(int(d[i]))\n",
        "  return iplist\n",
        "\n",
        "def IP_to_country(ip) :\n",
        "    try :\n",
        "        return df_iptocountry.country[(df_iptocountry.lower_bound_ip_address <= ip) & (df_iptocountry.upper_bound_ip_address >= ip)].iloc[0]\n",
        "    except IndexError :\n",
        "        return np.NAN\n",
        "\n",
        "df_fraud = pd.read_csv('/content/drive/My Drive/Colab Notebooks/datasets/Fraud_Data.csv',encoding=\"ISO-8859-1\",engine='python')\n",
        "df_iptocountry = pd.read_csv('/content/drive/My Drive/Colab Notebooks/datasets/IpAddress_to_Country.csv',encoding=\"ISO-8859-1\",engine='python')\n",
        "\n",
        "print(df_fraud.shape,df_iptocountry.shape)"
      ],
      "execution_count": 133,
      "outputs": [
        {
          "output_type": "stream",
          "text": [
            "(151112, 11) (138846, 3)\n"
          ],
          "name": "stdout"
        }
      ]
    },
    {
      "cell_type": "markdown",
      "metadata": {
        "id": "q7o7jDIYeZWd"
      },
      "source": [
        "#Phase 2 (transfo data)"
      ]
    },
    {
      "cell_type": "code",
      "metadata": {
        "id": "V4zDZTg-YFaL",
        "outputId": "58902e15-761b-4750-e8ce-8b74505a8f43",
        "colab": {
          "base_uri": "https://localhost:8080/",
          "height": 553
        }
      },
      "source": [
        "labenc = LE() #initialisation labelencoder\n",
        "\n",
        "#iptocountry\n",
        "df_iptocountry['country'] = labenc.fit_transform(df_iptocountry['country']) \n",
        "df_iptocountry['lower_bound_ip_address'] = sci_to_int(df_iptocountry['lower_bound_ip_address'])\n",
        "\n",
        "#fraud\n",
        "df_fraud['source'] = labenc.fit_transform(df_fraud['source'])\n",
        "df_fraud['browser'] = labenc.fit_transform(df_fraud['browser'])\n",
        "df_fraud['device_id'] = labenc.fit_transform(df_fraud['device_id'])\n",
        "df_fraud['purchase_time'] = pd.to_datetime(df_fraud['purchase_time'])\n",
        "df_fraud['signup_time'] = pd.to_datetime(df_fraud['signup_time'])\n",
        "df_fraud['ip_address'] = sci_to_int(df_fraud['ip_address'])\n",
        "\n",
        "df_fraud.sex = df_fraud['sex'].astype('category').cat.codes\n",
        "\n",
        "df_iptocountry.info(),df_fraud.info()\n"
      ],
      "execution_count": 134,
      "outputs": [
        {
          "output_type": "stream",
          "text": [
            "<class 'pandas.core.frame.DataFrame'>\n",
            "RangeIndex: 138846 entries, 0 to 138845\n",
            "Data columns (total 3 columns):\n",
            " #   Column                  Non-Null Count   Dtype\n",
            "---  ------                  --------------   -----\n",
            " 0   lower_bound_ip_address  138846 non-null  int64\n",
            " 1   upper_bound_ip_address  138846 non-null  int64\n",
            " 2   country                 138846 non-null  int64\n",
            "dtypes: int64(3)\n",
            "memory usage: 3.2 MB\n",
            "<class 'pandas.core.frame.DataFrame'>\n",
            "RangeIndex: 151112 entries, 0 to 151111\n",
            "Data columns (total 11 columns):\n",
            " #   Column          Non-Null Count   Dtype         \n",
            "---  ------          --------------   -----         \n",
            " 0   user_id         151112 non-null  int64         \n",
            " 1   signup_time     151112 non-null  datetime64[ns]\n",
            " 2   purchase_time   151112 non-null  datetime64[ns]\n",
            " 3   purchase_value  151112 non-null  int64         \n",
            " 4   device_id       151112 non-null  int64         \n",
            " 5   source          151112 non-null  int64         \n",
            " 6   browser         151112 non-null  int64         \n",
            " 7   sex             151112 non-null  int8          \n",
            " 8   age             151112 non-null  int64         \n",
            " 9   ip_address      151112 non-null  int64         \n",
            " 10  class           151112 non-null  int64         \n",
            "dtypes: datetime64[ns](2), int64(8), int8(1)\n",
            "memory usage: 11.7 MB\n"
          ],
          "name": "stdout"
        },
        {
          "output_type": "execute_result",
          "data": {
            "text/plain": [
              "(None, None)"
            ]
          },
          "metadata": {
            "tags": []
          },
          "execution_count": 134
        }
      ]
    },
    {
      "cell_type": "code",
      "metadata": {
        "id": "eEf8fs89yGse"
      },
      "source": [
        "df_merge = df_fraud.drop(['purchase_time','signup_time'],axis=1)"
      ],
      "execution_count": 135,
      "outputs": []
    },
    {
      "cell_type": "code",
      "metadata": {
        "id": "OEXC9SWM57Kx",
        "outputId": "4556136e-77fb-4140-83ec-9e3e3c30ef7d",
        "colab": {
          "base_uri": "https://localhost:8080/",
          "height": 849
        }
      },
      "source": [
        "df_iptocountry.info(),df_fraud.info(),df_merge.info()"
      ],
      "execution_count": 136,
      "outputs": [
        {
          "output_type": "stream",
          "text": [
            "<class 'pandas.core.frame.DataFrame'>\n",
            "RangeIndex: 138846 entries, 0 to 138845\n",
            "Data columns (total 3 columns):\n",
            " #   Column                  Non-Null Count   Dtype\n",
            "---  ------                  --------------   -----\n",
            " 0   lower_bound_ip_address  138846 non-null  int64\n",
            " 1   upper_bound_ip_address  138846 non-null  int64\n",
            " 2   country                 138846 non-null  int64\n",
            "dtypes: int64(3)\n",
            "memory usage: 3.2 MB\n",
            "<class 'pandas.core.frame.DataFrame'>\n",
            "RangeIndex: 151112 entries, 0 to 151111\n",
            "Data columns (total 11 columns):\n",
            " #   Column          Non-Null Count   Dtype         \n",
            "---  ------          --------------   -----         \n",
            " 0   user_id         151112 non-null  int64         \n",
            " 1   signup_time     151112 non-null  datetime64[ns]\n",
            " 2   purchase_time   151112 non-null  datetime64[ns]\n",
            " 3   purchase_value  151112 non-null  int64         \n",
            " 4   device_id       151112 non-null  int64         \n",
            " 5   source          151112 non-null  int64         \n",
            " 6   browser         151112 non-null  int64         \n",
            " 7   sex             151112 non-null  int8          \n",
            " 8   age             151112 non-null  int64         \n",
            " 9   ip_address      151112 non-null  int64         \n",
            " 10  class           151112 non-null  int64         \n",
            "dtypes: datetime64[ns](2), int64(8), int8(1)\n",
            "memory usage: 11.7 MB\n",
            "<class 'pandas.core.frame.DataFrame'>\n",
            "RangeIndex: 151112 entries, 0 to 151111\n",
            "Data columns (total 9 columns):\n",
            " #   Column          Non-Null Count   Dtype\n",
            "---  ------          --------------   -----\n",
            " 0   user_id         151112 non-null  int64\n",
            " 1   purchase_value  151112 non-null  int64\n",
            " 2   device_id       151112 non-null  int64\n",
            " 3   source          151112 non-null  int64\n",
            " 4   browser         151112 non-null  int64\n",
            " 5   sex             151112 non-null  int8 \n",
            " 6   age             151112 non-null  int64\n",
            " 7   ip_address      151112 non-null  int64\n",
            " 8   class           151112 non-null  int64\n",
            "dtypes: int64(8), int8(1)\n",
            "memory usage: 9.4 MB\n"
          ],
          "name": "stdout"
        },
        {
          "output_type": "execute_result",
          "data": {
            "text/plain": [
              "(None, None, None)"
            ]
          },
          "metadata": {
            "tags": []
          },
          "execution_count": 136
        }
      ]
    },
    {
      "cell_type": "code",
      "metadata": {
        "id": "MaJU2mTZloiA"
      },
      "source": [
        "df_merge[\"IP_country\"] = df_fraud.ip_address.apply(IP_to_country)"
      ],
      "execution_count": 137,
      "outputs": []
    },
    {
      "cell_type": "code",
      "metadata": {
        "id": "kbA6H0hIy-Ki",
        "outputId": "8208c3e9-cb4d-4dfe-ef24-1b347af981b6",
        "colab": {
          "base_uri": "https://localhost:8080/",
          "height": 331
        }
      },
      "source": [
        "df_merge.info()"
      ],
      "execution_count": 138,
      "outputs": [
        {
          "output_type": "stream",
          "text": [
            "<class 'pandas.core.frame.DataFrame'>\n",
            "RangeIndex: 151112 entries, 0 to 151111\n",
            "Data columns (total 10 columns):\n",
            " #   Column          Non-Null Count   Dtype  \n",
            "---  ------          --------------   -----  \n",
            " 0   user_id         151112 non-null  int64  \n",
            " 1   purchase_value  151112 non-null  int64  \n",
            " 2   device_id       151112 non-null  int64  \n",
            " 3   source          151112 non-null  int64  \n",
            " 4   browser         151112 non-null  int64  \n",
            " 5   sex             151112 non-null  int8   \n",
            " 6   age             151112 non-null  int64  \n",
            " 7   ip_address      151112 non-null  int64  \n",
            " 8   class           151112 non-null  int64  \n",
            " 9   IP_country      129146 non-null  float64\n",
            "dtypes: float64(1), int64(8), int8(1)\n",
            "memory usage: 10.5 MB\n"
          ],
          "name": "stdout"
        }
      ]
    },
    {
      "cell_type": "code",
      "metadata": {
        "id": "Q3CDiDfATOJD",
        "outputId": "7c1a5ca4-703e-47ba-b1b3-4aed40044e4f",
        "colab": {
          "base_uri": "https://localhost:8080/",
          "height": 55
        }
      },
      "source": [
        "\"\"\"merge_device_usage_dataset = pd.merge(df_fraud,\n",
        "                                      df_iptocountry.iloc[:,[0,2,4]],\n",
        "                                      left_on='use_id', right_on='use_id')\"\"\""
      ],
      "execution_count": 139,
      "outputs": [
        {
          "output_type": "execute_result",
          "data": {
            "application/vnd.google.colaboratory.intrinsic+json": {
              "type": "string"
            },
            "text/plain": [
              "\"merge_device_usage_dataset = pd.merge(df_fraud,\\n                                      df_iptocountry.iloc[:,[0,2,4]],\\n                                      left_on='use_id', right_on='use_id')\""
            ]
          },
          "metadata": {
            "tags": []
          },
          "execution_count": 139
        }
      ]
    },
    {
      "cell_type": "code",
      "metadata": {
        "id": "peWJzrl2SQA1",
        "outputId": "119f32b8-7791-4885-d224-f450feae69ed",
        "colab": {
          "base_uri": "https://localhost:8080/",
          "height": 498
        }
      },
      "source": [
        "df_merge = df_merge.dropna()\n",
        "print(df_merge.head(5))\n",
        "print(df_merge.info())"
      ],
      "execution_count": 140,
      "outputs": [
        {
          "output_type": "stream",
          "text": [
            "   user_id  purchase_value  device_id  ...  ip_address  class  IP_country\n",
            "0    22058              34      89215  ...   732758368      0       104.0\n",
            "1   333320              16      24078  ...   350311387      0       223.0\n",
            "2     1359              15     131216  ...  2621473820      1       223.0\n",
            "4   221365              39      68757  ...   415583117      0       223.0\n",
            "5   159135              42       2322  ...  2809315199      0        36.0\n",
            "\n",
            "[5 rows x 10 columns]\n",
            "<class 'pandas.core.frame.DataFrame'>\n",
            "Int64Index: 129146 entries, 0 to 151110\n",
            "Data columns (total 10 columns):\n",
            " #   Column          Non-Null Count   Dtype  \n",
            "---  ------          --------------   -----  \n",
            " 0   user_id         129146 non-null  int64  \n",
            " 1   purchase_value  129146 non-null  int64  \n",
            " 2   device_id       129146 non-null  int64  \n",
            " 3   source          129146 non-null  int64  \n",
            " 4   browser         129146 non-null  int64  \n",
            " 5   sex             129146 non-null  int8   \n",
            " 6   age             129146 non-null  int64  \n",
            " 7   ip_address      129146 non-null  int64  \n",
            " 8   class           129146 non-null  int64  \n",
            " 9   IP_country      129146 non-null  float64\n",
            "dtypes: float64(1), int64(8), int8(1)\n",
            "memory usage: 10.0 MB\n",
            "None\n"
          ],
          "name": "stdout"
        }
      ]
    },
    {
      "cell_type": "code",
      "metadata": {
        "id": "vnPruF8eP0nD",
        "outputId": "b904a8a1-0787-4bde-c75d-73249aa28456",
        "colab": {
          "base_uri": "https://localhost:8080/",
          "height": 35
        }
      },
      "source": [
        "#Isolation\n",
        "#target_feature_name = 'target_feature'\n",
        "\n",
        "###\n",
        "#note pour benj : j'ai pas fais faire les meilleurs hyperparametres, trop long pour mon charbon\n",
        "###\n",
        "\n",
        "target= 'class'\n",
        "y = df_merge[target]\n",
        "x = df_merge.drop(columns=target)\n",
        "\n",
        "\n",
        "splits = train_test_split(x,y, train_size=0.55,stratify=y,random_state=100) #separe le dataset en deux parties 1 pour entrainement a la prediction et l'autre pour le test operationnel\n",
        "                                              # stratify important car permet de récolter des reponses a comparer auxprediction de manière a tester le plus de cas possibles ( empeche de prendre ici que 1,2 ou 3 en réponse)\n",
        "\n",
        "x_train = splits[0]\n",
        "x_test = splits[1]\n",
        "y_train = splits[2]\n",
        "y_test = splits[3]\n",
        "\n",
        "#Pipeline\n",
        "pipeline_details = [('PCA', PCA(random_state=1337)),\n",
        "                    ('RF', RF())]\n",
        "pipeline = Pipeline(steps=pipeline_details)\n",
        "\n",
        "#GridSearchCV\n",
        "hyperparameters = {}\n",
        "hyperparameters['PCA__n_components'] = [i for i in range(1, x_train.shape[1]+1,3)]\n",
        "hyperparameters['RF__n_estimators']  = [i for i in range(70,150+1,20)]\n",
        "print(hyperparameters)\n",
        "\n",
        "#hyperparameter_search = GridSearchCV(pipeline, hyperparameters, scoring='accuracy', cv=5)\n",
        "\n",
        "#hyperparameter_search.fit(x_train, y_train)\n",
        "\n",
        "#print('Meilleur score : {:.5f}'.format(hyperparameter_search.best_score_))\n",
        "#print('Meilleur paramètres : {}'.format(hyperparameter_search.best_params_))"
      ],
      "execution_count": 141,
      "outputs": [
        {
          "output_type": "stream",
          "text": [
            "{'PCA__n_components': [1, 4, 7], 'RF__n_estimators': [70, 90, 110, 130, 150]}\n"
          ],
          "name": "stdout"
        }
      ]
    },
    {
      "cell_type": "code",
      "metadata": {
        "id": "hvQUobEEKc47"
      },
      "source": [
        ""
      ],
      "execution_count": 141,
      "outputs": []
    },
    {
      "cell_type": "code",
      "metadata": {
        "id": "guRlycyOLhQb",
        "outputId": "82499817-6e88-477d-d83f-5436c1a77fa0",
        "colab": {
          "base_uri": "https://localhost:8080/",
          "height": 424
        }
      },
      "source": [
        "x_train"
      ],
      "execution_count": 142,
      "outputs": [
        {
          "output_type": "execute_result",
          "data": {
            "text/html": [
              "<div>\n",
              "<style scoped>\n",
              "    .dataframe tbody tr th:only-of-type {\n",
              "        vertical-align: middle;\n",
              "    }\n",
              "\n",
              "    .dataframe tbody tr th {\n",
              "        vertical-align: top;\n",
              "    }\n",
              "\n",
              "    .dataframe thead th {\n",
              "        text-align: right;\n",
              "    }\n",
              "</style>\n",
              "<table border=\"1\" class=\"dataframe\">\n",
              "  <thead>\n",
              "    <tr style=\"text-align: right;\">\n",
              "      <th></th>\n",
              "      <th>user_id</th>\n",
              "      <th>purchase_value</th>\n",
              "      <th>device_id</th>\n",
              "      <th>source</th>\n",
              "      <th>browser</th>\n",
              "      <th>sex</th>\n",
              "      <th>age</th>\n",
              "      <th>ip_address</th>\n",
              "      <th>IP_country</th>\n",
              "    </tr>\n",
              "  </thead>\n",
              "  <tbody>\n",
              "    <tr>\n",
              "      <th>123993</th>\n",
              "      <td>178982</td>\n",
              "      <td>69</td>\n",
              "      <td>74407</td>\n",
              "      <td>1</td>\n",
              "      <td>0</td>\n",
              "      <td>0</td>\n",
              "      <td>28</td>\n",
              "      <td>388127216</td>\n",
              "      <td>223.0</td>\n",
              "    </tr>\n",
              "    <tr>\n",
              "      <th>98350</th>\n",
              "      <td>370473</td>\n",
              "      <td>47</td>\n",
              "      <td>89927</td>\n",
              "      <td>0</td>\n",
              "      <td>1</td>\n",
              "      <td>1</td>\n",
              "      <td>40</td>\n",
              "      <td>1121782376</td>\n",
              "      <td>223.0</td>\n",
              "    </tr>\n",
              "    <tr>\n",
              "      <th>12592</th>\n",
              "      <td>19748</td>\n",
              "      <td>28</td>\n",
              "      <td>57543</td>\n",
              "      <td>0</td>\n",
              "      <td>0</td>\n",
              "      <td>1</td>\n",
              "      <td>33</td>\n",
              "      <td>1514212031</td>\n",
              "      <td>70.0</td>\n",
              "    </tr>\n",
              "    <tr>\n",
              "      <th>75992</th>\n",
              "      <td>356828</td>\n",
              "      <td>38</td>\n",
              "      <td>83613</td>\n",
              "      <td>1</td>\n",
              "      <td>3</td>\n",
              "      <td>0</td>\n",
              "      <td>33</td>\n",
              "      <td>2090984315</td>\n",
              "      <td>42.0</td>\n",
              "    </tr>\n",
              "    <tr>\n",
              "      <th>103872</th>\n",
              "      <td>259687</td>\n",
              "      <td>50</td>\n",
              "      <td>17541</td>\n",
              "      <td>2</td>\n",
              "      <td>0</td>\n",
              "      <td>1</td>\n",
              "      <td>29</td>\n",
              "      <td>2199576139</td>\n",
              "      <td>223.0</td>\n",
              "    </tr>\n",
              "    <tr>\n",
              "      <th>...</th>\n",
              "      <td>...</td>\n",
              "      <td>...</td>\n",
              "      <td>...</td>\n",
              "      <td>...</td>\n",
              "      <td>...</td>\n",
              "      <td>...</td>\n",
              "      <td>...</td>\n",
              "      <td>...</td>\n",
              "      <td>...</td>\n",
              "    </tr>\n",
              "    <tr>\n",
              "      <th>22823</th>\n",
              "      <td>317530</td>\n",
              "      <td>44</td>\n",
              "      <td>99114</td>\n",
              "      <td>2</td>\n",
              "      <td>1</td>\n",
              "      <td>0</td>\n",
              "      <td>26</td>\n",
              "      <td>2937342826</td>\n",
              "      <td>42.0</td>\n",
              "    </tr>\n",
              "    <tr>\n",
              "      <th>145972</th>\n",
              "      <td>379203</td>\n",
              "      <td>87</td>\n",
              "      <td>59792</td>\n",
              "      <td>1</td>\n",
              "      <td>0</td>\n",
              "      <td>0</td>\n",
              "      <td>40</td>\n",
              "      <td>1161104083</td>\n",
              "      <td>223.0</td>\n",
              "    </tr>\n",
              "    <tr>\n",
              "      <th>98348</th>\n",
              "      <td>273418</td>\n",
              "      <td>33</td>\n",
              "      <td>15906</td>\n",
              "      <td>0</td>\n",
              "      <td>0</td>\n",
              "      <td>1</td>\n",
              "      <td>34</td>\n",
              "      <td>2639098283</td>\n",
              "      <td>104.0</td>\n",
              "    </tr>\n",
              "    <tr>\n",
              "      <th>84383</th>\n",
              "      <td>227441</td>\n",
              "      <td>42</td>\n",
              "      <td>117941</td>\n",
              "      <td>0</td>\n",
              "      <td>0</td>\n",
              "      <td>0</td>\n",
              "      <td>23</td>\n",
              "      <td>2689697058</td>\n",
              "      <td>223.0</td>\n",
              "    </tr>\n",
              "    <tr>\n",
              "      <th>135399</th>\n",
              "      <td>183705</td>\n",
              "      <td>18</td>\n",
              "      <td>952</td>\n",
              "      <td>2</td>\n",
              "      <td>0</td>\n",
              "      <td>1</td>\n",
              "      <td>40</td>\n",
              "      <td>2897839215</td>\n",
              "      <td>223.0</td>\n",
              "    </tr>\n",
              "  </tbody>\n",
              "</table>\n",
              "<p>71030 rows × 9 columns</p>\n",
              "</div>"
            ],
            "text/plain": [
              "        user_id  purchase_value  device_id  ...  age  ip_address  IP_country\n",
              "123993   178982              69      74407  ...   28   388127216       223.0\n",
              "98350    370473              47      89927  ...   40  1121782376       223.0\n",
              "12592     19748              28      57543  ...   33  1514212031        70.0\n",
              "75992    356828              38      83613  ...   33  2090984315        42.0\n",
              "103872   259687              50      17541  ...   29  2199576139       223.0\n",
              "...         ...             ...        ...  ...  ...         ...         ...\n",
              "22823    317530              44      99114  ...   26  2937342826        42.0\n",
              "145972   379203              87      59792  ...   40  1161104083       223.0\n",
              "98348    273418              33      15906  ...   34  2639098283       104.0\n",
              "84383    227441              42     117941  ...   23  2689697058       223.0\n",
              "135399   183705              18        952  ...   40  2897839215       223.0\n",
              "\n",
              "[71030 rows x 9 columns]"
            ]
          },
          "metadata": {
            "tags": []
          },
          "execution_count": 142
        }
      ]
    },
    {
      "cell_type": "code",
      "metadata": {
        "id": "vfNolm9TQNPP",
        "outputId": "0afc2c4d-b98e-420c-c57a-be371c44735b",
        "colab": {
          "base_uri": "https://localhost:8080/",
          "height": 54
        }
      },
      "source": [
        "rf = RF(n_estimators=110)\n",
        "rf.fit(x_train, y_train)\n",
        "print(rf.feature_importances_)"
      ],
      "execution_count": 145,
      "outputs": [
        {
          "output_type": "stream",
          "text": [
            "[0.16736601 0.13664267 0.21255899 0.03117582 0.02927011 0.01747251\n",
            " 0.11889642 0.20925682 0.07736065]\n"
          ],
          "name": "stdout"
        }
      ]
    },
    {
      "cell_type": "code",
      "metadata": {
        "id": "e_EOyZDguZma",
        "outputId": "35b9266f-b9c3-4c9e-b789-840fff560a21",
        "colab": {
          "base_uri": "https://localhost:8080/",
          "height": 35
        }
      },
      "source": [
        "#PCA\n",
        "\"\"\"\n",
        "best_param_PCA = hyperparameter_search.best_params_['PCA__n_components']\n",
        "pca = PCA(n_components=best_param_PCA)\n",
        "pca.fit(x_train)\n",
        "x_train_PCA = pca.transform(x_train)\n",
        "x_test_PCA = pca.transform(x_test)\n",
        "\"\"\"\n",
        "\n",
        "#RF\n",
        "#N=hyperparameter_search.best_params_['RF__n_estimators']\n",
        "rf = RF(n_estimators=110)\n",
        "rf.fit(x_train, y_train)\n",
        "\n",
        "#Accuracy\n",
        "preds = rf.predict(x_test)\n",
        "print('Accuracy : ',accuracy(preds, y_test)*100,'%')\n"
      ],
      "execution_count": 144,
      "outputs": [
        {
          "output_type": "stream",
          "text": [
            "Accuracy :  94.35095326588203 %\n"
          ],
          "name": "stdout"
        }
      ]
    },
    {
      "cell_type": "code",
      "metadata": {
        "id": "8LcuwGE9uees",
        "outputId": "733006ad-a0c4-4430-c480-03925a3d6366",
        "colab": {
          "base_uri": "https://localhost:8080/",
          "height": 265
        }
      },
      "source": [
        "#Confusion Matrix\n",
        "y_classifie = y.astype('category').cat.categories.tolist()\n",
        "cm_train = confusion_matrix(y_test,y_pred=preds,labels=y_classifie)\n",
        "show_cm(cm_train, y_classifie)"
      ],
      "execution_count": 146,
      "outputs": [
        {
          "output_type": "display_data",
          "data": {
            "image/png": "[encoded data removed]",
            "text/plain": [
              "<Figure size 432x288 with 2 Axes>"
            ]
          },
          "metadata": {
            "tags": [],
            "needs_background": "light"
          }
        }
      ]
    },
    {
      "cell_type": "code",
      "metadata": {
        "id": "x4qUZyGOQfbG"
      },
      "source": [
        ""
      ],
      "execution_count": null,
      "outputs": []
    }
  ]
}