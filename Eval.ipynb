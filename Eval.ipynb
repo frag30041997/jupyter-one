{
  "nbformat": 4,
  "nbformat_minor": 0,
  "metadata": {
    "colab": {
      "name": "Eval.ipynb",
      "provenance": [],
      "toc_visible": true,
      "authorship_tag": "ABX9TyNo9sg2fX/cy6mWQzH0tCL/",
      "include_colab_link": true
    },
    "kernelspec": {
      "name": "python3",
      "display_name": "Python 3"
    }
  },
  "cells": [
    {
      "cell_type": "markdown",
      "metadata": {
        "id": "view-in-github",
        "colab_type": "text"
      },
      "source": [
        "<a href=\"https://colab.research.google.com/github/frag30041997/jupyter-one/blob/master/Eval.ipynb\" target=\"_parent\"><img src=\"https://colab.research.google.com/assets/colab-badge.svg\" alt=\"Open In Colab\"/></a>"
      ]
    },
    {
      "cell_type": "markdown",
      "metadata": {
        "id": "fcnFtrWqIVKN",
        "colab_type": "text"
      },
      "source": [
        "Un KPI c'est la Key Performance Indicator, il s'agit de facteurs permettant d'évaluer l'éfficacité d'une mesure ou d'un système mis en place dans une campagne marketting, commerciale ou autre, par exemple, lors lors d'une promotion sur une gamme de produits, le KPI lié a cette manoeuvre sera la différence dans la vente de cette gamme avec et sans la promotion."
      ]
    },
    {
      "cell_type": "code",
      "metadata": {
        "id": "cfFGYyoY9GEN",
        "colab_type": "code",
        "colab": {}
      },
      "source": [
        "import numpy as np, pandas as pd"
      ],
      "execution_count": null,
      "outputs": []
    },
    {
      "cell_type": "code",
      "metadata": {
        "id": "vcLUw0CX9MNU",
        "colab_type": "code",
        "colab": {}
      },
      "source": [
        "df = pd.read_csv('/house_pricing.csv') "
      ],
      "execution_count": null,
      "outputs": []
    },
    {
      "cell_type": "code",
      "metadata": {
        "id": "MgSIF0Bk9Tk_",
        "colab_type": "code",
        "colab": {}
      },
      "source": [
        "df1 = pd.read_csv('eval_data.csv')"
      ],
      "execution_count": null,
      "outputs": []
    },
    {
      "cell_type": "code",
      "metadata": {
        "id": "TyVmToWYIMRM",
        "colab_type": "code",
        "colab": {
          "base_uri": "https://localhost:8080/",
          "height": 713
        },
        "outputId": "58fe4c3c-28b0-49d3-d2cc-734d01b43cd5"
      },
      "source": [
        "df1.head(10)"
      ],
      "execution_count": null,
      "outputs": [
        {
          "output_type": "execute_result",
          "data": {
            "text/html": [
              "<div>\n",
              "<style scoped>\n",
              "    .dataframe tbody tr th:only-of-type {\n",
              "        vertical-align: middle;\n",
              "    }\n",
              "\n",
              "    .dataframe tbody tr th {\n",
              "        vertical-align: top;\n",
              "    }\n",
              "\n",
              "    .dataframe thead th {\n",
              "        text-align: right;\n",
              "    }\n",
              "</style>\n",
              "<table border=\"1\" class=\"dataframe\">\n",
              "  <thead>\n",
              "    <tr style=\"text-align: right;\">\n",
              "      <th></th>\n",
              "      <th>Unnamed: 0</th>\n",
              "      <th>order_id</th>\n",
              "      <th>quantity</th>\n",
              "      <th>item_name</th>\n",
              "      <th>choice_description</th>\n",
              "      <th>item_price</th>\n",
              "    </tr>\n",
              "  </thead>\n",
              "  <tbody>\n",
              "    <tr>\n",
              "      <th>0</th>\n",
              "      <td>0</td>\n",
              "      <td>1</td>\n",
              "      <td>1</td>\n",
              "      <td>Chips and Fresh Tomato Salsa</td>\n",
              "      <td>NaN</td>\n",
              "      <td>NaN</td>\n",
              "    </tr>\n",
              "    <tr>\n",
              "      <th>1</th>\n",
              "      <td>1</td>\n",
              "      <td>1</td>\n",
              "      <td>1</td>\n",
              "      <td>Izze</td>\n",
              "      <td>[Clementine]</td>\n",
              "      <td>$3.39</td>\n",
              "    </tr>\n",
              "    <tr>\n",
              "      <th>2</th>\n",
              "      <td>2</td>\n",
              "      <td>1</td>\n",
              "      <td>1</td>\n",
              "      <td>Nantucket Nectar</td>\n",
              "      <td>[Apple]</td>\n",
              "      <td>$3.39</td>\n",
              "    </tr>\n",
              "    <tr>\n",
              "      <th>3</th>\n",
              "      <td>3</td>\n",
              "      <td>1</td>\n",
              "      <td>1</td>\n",
              "      <td>Chips and Tomatillo-Green Chili Salsa</td>\n",
              "      <td>NaN</td>\n",
              "      <td>NaN</td>\n",
              "    </tr>\n",
              "    <tr>\n",
              "      <th>4</th>\n",
              "      <td>4</td>\n",
              "      <td>2</td>\n",
              "      <td>2</td>\n",
              "      <td>Chicken Bowl</td>\n",
              "      <td>[Tomatillo-Red Chili Salsa (Hot), [Black Beans...</td>\n",
              "      <td>$16.98</td>\n",
              "    </tr>\n",
              "    <tr>\n",
              "      <th>5</th>\n",
              "      <td>5</td>\n",
              "      <td>3</td>\n",
              "      <td>1</td>\n",
              "      <td>Chicken Bowl</td>\n",
              "      <td>[Fresh Tomato Salsa (Mild), [Rice, Cheese, Sou...</td>\n",
              "      <td>$10.98</td>\n",
              "    </tr>\n",
              "    <tr>\n",
              "      <th>6</th>\n",
              "      <td>6</td>\n",
              "      <td>3</td>\n",
              "      <td>1</td>\n",
              "      <td>Side of Chips</td>\n",
              "      <td>NaN</td>\n",
              "      <td>$1.69</td>\n",
              "    </tr>\n",
              "    <tr>\n",
              "      <th>7</th>\n",
              "      <td>7</td>\n",
              "      <td>4</td>\n",
              "      <td>1</td>\n",
              "      <td>Steak Burrito</td>\n",
              "      <td>[Tomatillo Red Chili Salsa, [Fajita Vegetables...</td>\n",
              "      <td>$11.75</td>\n",
              "    </tr>\n",
              "    <tr>\n",
              "      <th>8</th>\n",
              "      <td>8</td>\n",
              "      <td>4</td>\n",
              "      <td>1</td>\n",
              "      <td>Steak Soft Tacos</td>\n",
              "      <td>[Tomatillo Green Chili Salsa, [Pinto Beans, Ch...</td>\n",
              "      <td>$9.25</td>\n",
              "    </tr>\n",
              "    <tr>\n",
              "      <th>9</th>\n",
              "      <td>9</td>\n",
              "      <td>5</td>\n",
              "      <td>1</td>\n",
              "      <td>Steak Burrito</td>\n",
              "      <td>[Fresh Tomato Salsa, [Rice, Black Beans, Pinto...</td>\n",
              "      <td>$9.25</td>\n",
              "    </tr>\n",
              "  </tbody>\n",
              "</table>\n",
              "</div>"
            ],
            "text/plain": [
              "   Unnamed: 0  ...  item_price\n",
              "0           0  ...         NaN\n",
              "1           1  ...      $3.39 \n",
              "2           2  ...      $3.39 \n",
              "3           3  ...         NaN\n",
              "4           4  ...     $16.98 \n",
              "5           5  ...     $10.98 \n",
              "6           6  ...      $1.69 \n",
              "7           7  ...     $11.75 \n",
              "8           8  ...      $9.25 \n",
              "9           9  ...      $9.25 \n",
              "\n",
              "[10 rows x 6 columns]"
            ]
          },
          "metadata": {
            "tags": []
          },
          "execution_count": 9
        }
      ]
    },
    {
      "cell_type": "code",
      "metadata": {
        "id": "cHL8hYglJ095",
        "colab_type": "code",
        "colab": {
          "base_uri": "https://localhost:8080/",
          "height": 35
        },
        "outputId": "f66a8293-1fe9-48e7-bf3e-0e73423f276c"
      },
      "source": [
        "df1.shape"
      ],
      "execution_count": null,
      "outputs": [
        {
          "output_type": "execute_result",
          "data": {
            "text/plain": [
              "(4622, 6)"
            ]
          },
          "metadata": {
            "tags": []
          },
          "execution_count": 10
        }
      ]
    },
    {
      "cell_type": "code",
      "metadata": {
        "id": "-xdycjSVLQZj",
        "colab_type": "code",
        "colab": {
          "base_uri": "https://localhost:8080/",
          "height": 92
        },
        "outputId": "0dd0dd6e-8e45-48da-fbff-2dbf51bac4ee"
      },
      "source": [
        "df1.columns"
      ],
      "execution_count": null,
      "outputs": [
        {
          "output_type": "execute_result",
          "data": {
            "text/plain": [
              "Index(['Unnamed: 0', 'order_id', 'quantity', 'item_name', 'choice_description',\n",
              "       'item_price'],\n",
              "      dtype='object')"
            ]
          },
          "metadata": {
            "tags": []
          },
          "execution_count": 11
        }
      ]
    },
    {
      "cell_type": "markdown",
      "metadata": {
        "id": "DwgVXqhBLjc0",
        "colab_type": "text"
      },
      "source": [
        "Ce dataset comprend 6 colonnes et représente les donnés des commandes d'un fast-food:\n",
        "Unnamed: 0 est le numéros de ligne du tableau (débutant a 0).\n",
        "order_id est l'id de la commande permettant de grouper tout les produits de la meme commande.\n",
        "quantity represente la quantité de l'objet présente dans la meme commande.\n",
        "item_name est le nom du produit, choice_description en est la description et item_price en est le prix."
      ]
    },
    {
      "cell_type": "code",
      "metadata": {
        "id": "1yfSExk7LgKu",
        "colab_type": "code",
        "colab": {
          "base_uri": "https://localhost:8080/",
          "height": 300
        },
        "outputId": "7694850a-a79a-4ceb-e14e-9cb09fb4d6d5"
      },
      "source": [
        "df1['item_price'] = df1['item_price'].str.replace('$', '')\n",
        "df1['item_price'].astype('float')\n",
        "df1.describe()"
      ],
      "execution_count": null,
      "outputs": [
        {
          "output_type": "execute_result",
          "data": {
            "text/html": [
              "<div>\n",
              "<style scoped>\n",
              "    .dataframe tbody tr th:only-of-type {\n",
              "        vertical-align: middle;\n",
              "    }\n",
              "\n",
              "    .dataframe tbody tr th {\n",
              "        vertical-align: top;\n",
              "    }\n",
              "\n",
              "    .dataframe thead th {\n",
              "        text-align: right;\n",
              "    }\n",
              "</style>\n",
              "<table border=\"1\" class=\"dataframe\">\n",
              "  <thead>\n",
              "    <tr style=\"text-align: right;\">\n",
              "      <th></th>\n",
              "      <th>Unnamed: 0</th>\n",
              "      <th>order_id</th>\n",
              "      <th>quantity</th>\n",
              "    </tr>\n",
              "  </thead>\n",
              "  <tbody>\n",
              "    <tr>\n",
              "      <th>count</th>\n",
              "      <td>4622.000000</td>\n",
              "      <td>4622.000000</td>\n",
              "      <td>4622.000000</td>\n",
              "    </tr>\n",
              "    <tr>\n",
              "      <th>mean</th>\n",
              "      <td>2310.500000</td>\n",
              "      <td>927.254868</td>\n",
              "      <td>1.075725</td>\n",
              "    </tr>\n",
              "    <tr>\n",
              "      <th>std</th>\n",
              "      <td>1334.400802</td>\n",
              "      <td>528.890796</td>\n",
              "      <td>0.410186</td>\n",
              "    </tr>\n",
              "    <tr>\n",
              "      <th>min</th>\n",
              "      <td>0.000000</td>\n",
              "      <td>1.000000</td>\n",
              "      <td>1.000000</td>\n",
              "    </tr>\n",
              "    <tr>\n",
              "      <th>25%</th>\n",
              "      <td>1155.250000</td>\n",
              "      <td>477.250000</td>\n",
              "      <td>1.000000</td>\n",
              "    </tr>\n",
              "    <tr>\n",
              "      <th>50%</th>\n",
              "      <td>2310.500000</td>\n",
              "      <td>926.000000</td>\n",
              "      <td>1.000000</td>\n",
              "    </tr>\n",
              "    <tr>\n",
              "      <th>75%</th>\n",
              "      <td>3465.750000</td>\n",
              "      <td>1393.000000</td>\n",
              "      <td>1.000000</td>\n",
              "    </tr>\n",
              "    <tr>\n",
              "      <th>max</th>\n",
              "      <td>4621.000000</td>\n",
              "      <td>1834.000000</td>\n",
              "      <td>15.000000</td>\n",
              "    </tr>\n",
              "  </tbody>\n",
              "</table>\n",
              "</div>"
            ],
            "text/plain": [
              "        Unnamed: 0     order_id     quantity\n",
              "count  4622.000000  4622.000000  4622.000000\n",
              "mean   2310.500000   927.254868     1.075725\n",
              "std    1334.400802   528.890796     0.410186\n",
              "min       0.000000     1.000000     1.000000\n",
              "25%    1155.250000   477.250000     1.000000\n",
              "50%    2310.500000   926.000000     1.000000\n",
              "75%    3465.750000  1393.000000     1.000000\n",
              "max    4621.000000  1834.000000    15.000000"
            ]
          },
          "metadata": {
            "tags": []
          },
          "execution_count": 46
        }
      ]
    },
    {
      "cell_type": "code",
      "metadata": {
        "id": "mR3VsFz_NwL6",
        "colab_type": "code",
        "colab": {
          "base_uri": "https://localhost:8080/",
          "height": 978
        },
        "outputId": "55c27495-0f75-4f79-a7cb-9d658d861fa5"
      },
      "source": [
        "df1.groupby(['item_name'])['quantity'].max()"
      ],
      "execution_count": null,
      "outputs": [
        {
          "output_type": "execute_result",
          "data": {
            "text/plain": [
              "item_name\n",
              "6 Pack Soft Drink                         2\n",
              "Barbacoa Bowl                             1\n",
              "Barbacoa Burrito                          1\n",
              "Barbacoa Crispy Tacos                     2\n",
              "Barbacoa Salad Bowl                       1\n",
              "Barbacoa Soft Tacos                       1\n",
              "Bottled Water                            10\n",
              "Bowl                                      3\n",
              "Burrito                                   1\n",
              "Canned Soda                               4\n",
              "Canned Soft Drink                         4\n",
              "Carnitas Bowl                             3\n",
              "Carnitas Burrito                          2\n",
              "Carnitas Crispy Tacos                     2\n",
              "Carnitas Salad                            1\n",
              "Carnitas Salad Bowl                       1\n",
              "Carnitas Soft Tacos                       1\n",
              "Chicken Bowl                              3\n",
              "Chicken Burrito                           4\n",
              "Chicken Crispy Tacos                      2\n",
              "Chicken Salad                             1\n",
              "Chicken Salad Bowl                        2\n",
              "Chicken Soft Tacos                        2\n",
              "Chips                                     3\n",
              "Chips and Fresh Tomato Salsa             15\n",
              "Chips and Guacamole                       4\n",
              "Chips and Mild Fresh Tomato Salsa         1\n",
              "Chips and Roasted Chili Corn Salsa        2\n",
              "Chips and Roasted Chili-Corn Salsa        1\n",
              "Chips and Tomatillo Green Chili Salsa     2\n",
              "Chips and Tomatillo Red Chili Salsa       2\n",
              "Chips and Tomatillo-Green Chili Salsa     2\n",
              "Chips and Tomatillo-Red Chili Salsa       3\n",
              "Crispy Tacos                              1\n",
              "Izze                                      1\n",
              "Nantucket Nectar                          2\n",
              "Salad                                     1\n",
              "Side of Chips                             8\n",
              "Steak Bowl                                3\n",
              "Steak Burrito                             3\n",
              "Steak Crispy Tacos                        2\n",
              "Steak Salad                               1\n",
              "Steak Salad Bowl                          2\n",
              "Steak Soft Tacos                          2\n",
              "Veggie Bowl                               2\n",
              "Veggie Burrito                            3\n",
              "Veggie Crispy Tacos                       1\n",
              "Veggie Salad                              1\n",
              "Veggie Salad Bowl                         1\n",
              "Veggie Soft Tacos                         2\n",
              "Name: quantity, dtype: int64"
            ]
          },
          "metadata": {
            "tags": []
          },
          "execution_count": 41
        }
      ]
    },
    {
      "cell_type": "markdown",
      "metadata": {
        "id": "XWvOHfglSwxy",
        "colab_type": "text"
      },
      "source": [
        "On peut constater grâce a cette liste que l'item le plus commandé est le 'Chips and Fresh Tomato Salsa' aveec 15 commandes dans la liste"
      ]
    },
    {
      "cell_type": "code",
      "metadata": {
        "id": "TXCXNNreR7hr",
        "colab_type": "code",
        "colab": {
          "base_uri": "https://localhost:8080/",
          "height": 35
        },
        "outputId": "9b503885-9708-48fd-979e-ce02ebc8f24c"
      },
      "source": [
        "df1[\"quantity\"].sum()"
      ],
      "execution_count": 50,
      "outputs": [
        {
          "output_type": "execute_result",
          "data": {
            "text/plain": [
              "4972"
            ]
          },
          "metadata": {
            "tags": []
          },
          "execution_count": 50
        }
      ]
    },
    {
      "cell_type": "code",
      "metadata": {
        "id": "JOl5F-j-TJXM",
        "colab_type": "code",
        "colab": {}
      },
      "source": [
        ""
      ],
      "execution_count": null,
      "outputs": []
    }
  ]
}